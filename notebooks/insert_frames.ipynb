{
 "cells": [
  {
   "cell_type": "markdown",
   "metadata": {},
   "source": [
    "# Insert FrameNet into the Knowledge Graph\n",
    "\n",
    "Inserts framenet into the knowledge graph\n",
    "Takes a little while to run"
   ]
  },
  {
   "cell_type": "code",
   "execution_count": null,
   "metadata": {},
   "outputs": [],
   "source": [
    "from nltk.corpus import framenet as fn"
   ]
  },
  {
   "cell_type": "code",
   "execution_count": null,
   "metadata": {},
   "outputs": [],
   "source": [
    "frames_data = []\n",
    "for frame in fn.frames():\n",
    "    lexeme_units = list(frame['lexUnit'].keys())\n",
    "    fe = list(frame[\"FE\"].keys())\n",
    "    for relation in frame['frameRelations']:\n",
    "        if relation['type']['name'] == \"Inheritance\" and relation['Child'] == frame:\n",
    "            # If it's an inheritance and the child is the frame in question\n",
    "            lexeme_units += list(relation['Parent']['lexUnit'].keys())\n",
    "            fe += list(relation['Parent']['FE'].keys())\n",
    "    frame_data = {\n",
    "        'name': frame['name'],\n",
    "        'lexeme_units': lexeme_units,\n",
    "        'fe': fe\n",
    "    }\n",
    "    frames_data.append(frame_data)"
   ]
  },
  {
   "cell_type": "code",
   "execution_count": null,
   "metadata": {
    "scrolled": false
   },
   "outputs": [],
   "source": [
    "from py2neo import Graph\n",
    "import os\n",
    "\n",
    "host = os.environ.get('REMOTE_NEO4J_URL')\n",
    "user = os.environ.get('NEO4J_USER')\n",
    "password = os.environ.get('NEO4J_PASSWORD')\n",
    "graph = Graph(host=host, user='neo4j', password = password, secure=True)\n",
    "\n",
    "cypher = \"\"\n",
    "\n",
    "for index, frame in enumerate(frames_data[447 + 529:]):\n",
    "    print(f\"{index} of {len(frames_data)}\")\n",
    "    graph.run(\"CREATE (f:Frame {name: '\" + frame['name'] + \"'})\")\n",
    "    for lexeme_unit in list(set(frame['lexeme_units'])):\n",
    "        split_lexeme = lexeme_unit.split(\".\")\n",
    "        if split_lexeme[1] == \"v\":\n",
    "            word = split_lexeme[0].replace(\"'\", \"\")\n",
    "            graph.run(\"MATCH (f:Frame {name: '\" + frame['name'] + \"'}) \\\n",
    "            MERGE (w:Verb { word: '\" + word + \"'}) \\\n",
    "            MERGE (w)<-[:HAS_LEXEME_UNIT]-(f)\")\n",
    "    for fe in frame['fe']:\n",
    "        fe = fe.replace(\"'\", \"\")\n",
    "        fe = fe.lower()\n",
    "        if len(graph.run(\"MATCH (e:Entity {name: '\" + fe + \"'}) RETURN e\").data()) > 0:\n",
    "            graph.run(\"MATCH (f:Frame { name: '\" + frame['name'] + \"'}), \\\n",
    "                (e:Entity { name: '\" + fe + \"' }) \\\n",
    "                SET e:FrameElement \\\n",
    "                MERGE (e)<-[:HAS_FRAME_ELEMENT]-(f)\")\n",
    "        else:\n",
    "            graph.run(\"MATCH (f:Frame {name: '\" + frame['name'] + \"'}) \\\n",
    "            MERGE (w:FrameElement { type: '\" + fe + \"'})<-[:HAS_FRAME_ELEMENT]-(f)\")"
   ]
  }
 ],
 "metadata": {
  "kernelspec": {
   "display_name": "Python 3",
   "language": "python",
   "name": "python3"
  },
  "language_info": {
   "codemirror_mode": {
    "name": "ipython",
    "version": 3
   },
   "file_extension": ".py",
   "mimetype": "text/x-python",
   "name": "python",
   "nbconvert_exporter": "python",
   "pygments_lexer": "ipython3",
   "version": "3.8.2"
  }
 },
 "nbformat": 4,
 "nbformat_minor": 2
}
