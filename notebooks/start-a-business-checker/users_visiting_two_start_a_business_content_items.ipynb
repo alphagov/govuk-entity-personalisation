{
 "cells": [
  {
   "cell_type": "markdown",
   "source": [
    "### Users visiting two start a business content items\n"
   ],
   "metadata": {
    "collapsed": false,
    "pycharm": {
     "name": "#%% md\n"
    }
   }
  },
  {
   "cell_type": "code",
   "execution_count": null,
   "outputs": [],
   "source": [
    "import google.auth\n",
    "from google.cloud import bigquery\n",
    "import os\n",
    "from datetime import datetime, timedelta"
   ],
   "metadata": {
    "collapsed": false,
    "pycharm": {
     "name": "#%% code\n"
    }
   }
  },
  {
   "cell_type": "code",
   "execution_count": null,
   "outputs": [],
   "source": [
    "def create_big_query_client():\n",
    "    credentials, project_id = google.auth.default()\n",
    "    return bigquery.Client(credentials=credentials, project=project_id)\n",
    "\n",
    "def query():\n",
    "    filepath = os.path.join(os.getenv(\"DIR_NOTEBOOKS\"), \"start-a-business-checker\", \"users_visiting_two_start_a_business_content_items.sql\")\n",
    "    with open(filepath, 'r') as file:\n",
    "        lines = \" \".join(line.strip(\"\\n\") for line in file)\n",
    "    return lines\n",
    "\n",
    "def fetch_data(date_from, date_to, pages):\n",
    "    query_config = bigquery.QueryJobConfig(\n",
    "        query_parameters=[\n",
    "            bigquery.ArrayQueryParameter(\"pages\", \"STRING\",  pages),\n",
    "            bigquery.ScalarQueryParameter(\"date_from\", \"STRING\", date_from),\n",
    "            bigquery.ScalarQueryParameter(\"date_to\", \"STRING\", date_to),\n",
    "        ]\n",
    "    )\n",
    "    client = create_big_query_client()\n",
    "    user_movement_df = client.query(query(), job_config=query_config).to_dataframe()\n",
    "    return user_movement_df\n",
    "\n",
    "\n",
    "date_from = (datetime.today() - timedelta(weeks=4)).strftime('%Y%m%d')\n",
    "date_to = datetime.today().strftime('%Y%m%d')\n",
    "\n",
    "pages = [\"/correct-your-business-rates\", \"/send-rent-lease-details\", \"/planning-permission-england-wales\", \"/introduction-to-business-rates\", \"/calculate-your-business-rates\", \"/run-business-from-home\", \"/apply-for-business-rate-relief\", \"/find-government-property\", \"/contact-your-local-council-about-business-rates\", \"/energy-performance-certificate-commercial-property\", \"/workplace-fire-safety-your-responsibilities\", \"/find-an-energy-assessor\", \"/workplace-temperatures\", \"/renting-business-property-tenant-responsibilities\", \"/scaffolding-rules\", \"/terminating-a-commercial-property-lease-early\", \"/can-i-use-cctv-at-my-commercial-premises\", \"/water-and-sewerage-rates-for-businesses\", \"/who-is-responsible-for-asbestos-found-in-my-commercial-property\", \"/non-domestic-renewable-heat-incentive\", \"/appeal-lawful-development-certificate-decision\", \"/get-rebate-refund-business-rates\", \"/get-your-air-conditioning-system-inspected\", \"/register-boat-coastguard-safety-scheme\", \"/right-to-contest-answer\", \"/renewing-your-commercial-property-lease\", \"/send-vat-return\", \"/pay-vat\", \"/use-construction-industry-scheme-online\", \"/pay-corporation-tax\", \"/vat-registration\", \"/file-your-company-accounts-and-tax-return\", \"/vat-returns\", \"/corporation-tax\", \"/pay-tax-direct-debit\", \"/pay-tax-debit-credit-card\", \"/prepare-file-annual-accounts-for-limited-company\", \"/capital-allowances\", \"/company-tax-returns\", \"/reclaim-vat\", \"/tell-hmrc-changed-business-details\", \"/corporation-tax-rates\", \"/what-you-must-do-as-a-cis-subcontractor\", \"/vat-businesses\", \"/what-you-must-do-as-a-cis-contractor\", \"/tax-buy-shares\", \"/work-out-capital-allowances\", \"/corporation-tax-accounting-period\", \"/first-company-accounts-and-return\", \"/vat-registration-thresholds\", \"/capital-gains-tax-businesses\", \"/dormant-company\", \"/tax-compliance-checks\", \"/tax-tribunal\", \"/capital-allowances-sell-asset\", \"/tax-when-your-company-sells-assets\", \"/tax-limited-company-gives-to-charity\", \"/pay-construction-industry-scheme-cis-late-filing-penalty\", \"/get-refund-interest-corporation-tax\", \"/marginal-relief-calculator\", \"/government/collections/venture-capital-schemes-hmrc-manuals\", \"/wood-packaging-import-export\", \"/take-goods-sell-abroad\", \"/taking-goods-out-uk-temporarily\", \"/intrastat\", \"/research-export-markets\", \"/overseas-customers-export-opportunities\", \"/barriers-trading-investing-abroad\", \"/check-eori-number\", \"/check-duties-customs-exporting\", \"/export-customs-declaration\", \"/export-goods\", \"/eori\", \"/goods-sent-from-abroad\", \"/get-rules-tariffs-trade-with-uk\", \"/import-customs-declaration\", \"/vat-on-services-from-abroad\", \"/import-goods-into-uk\", \"/trade-tariff\", \"/licence-finder\", \"/file-your-confirmation-statement-with-companies-house\", \"/file-changes-to-a-company-with-companies-house\", \"/limited-company-formation\", \"/file-your-company-annual-accounts\", \"/set-up-limited-company\", \"/strike-off-your-company-from-companies-register\", \"/running-a-limited-company\", \"/closing-a-limited-company\", \"/directors-loans\", \"/annual-accounts\", \"/search-the-register-of-disqualified-company-directors\", \"/audit-exemptions-for-private-limited-companies\", \"/change-your-companys-year-end\", \"/register-as-an-overseas-company\", \"/company-director-disqualification\", \"/appeal-a-penalty-for-filing-your-company-accounts-late\", \"/make-changes-to-your-limited-company\", \"/queens-awards-for-enterprise\", \"/object-to-a-limited-company-being-struck-off\", \"/set-up-property-management-company\", \"/restart-a-non-trading-or-dormant-company\", \"/cartels-price-fixing\", \"/file-accounts-in-the-uk-as-an-overseas-company\", \"/contracts-finder\", \"/accepting-returns-and-giving-refunds\", \"/online-and-distance-selling-for-businesses\", \"/find-tender\", \"/trading-hours-for-retailers-the-law\", \"/invoicing-and-taking-payment-from-customers\", \"/data-protection-register-notify-ico-personal-data\", \"/data-protection-your-business\", \"/tendering-for-public-sector-contracts\", \"/product-labelling-the-law\", \"/weights-measures-and-packaging-the-law\", \"/marketing-advertising-law\", \"/pedlars-certificate\", \"/doorstep-selling-regulations\", \"/check-when-businesses-pay-invoices\", \"/respond-data-protection-request\", \"/digital-marketplace\", \"/unfair-terms-in-sales-contracts\", \"/entertainment-and-modelling-agencies\", \"/uk-registered-deaths\", \"/employers-liability-insurance\", \"/employment-agencies-and-businesses\", \"/growing-your-business\", \"/employing-staff\", \"/set-up-business\"]\n",
    "movement_data = fetch_data(date_from, date_to, pages)"
   ],
   "metadata": {
    "collapsed": false,
    "pycharm": {
     "name": "#%%\n"
    }
   }
  },
  {
   "cell_type": "code",
   "execution_count": null,
   "outputs": [],
   "source": [
    "print(\"Following pages included\")\n",
    "for page in pages:\n",
    "    print(page)\n",
    "print()\n",
    "print(f\"starting from date: {date_from}\")\n",
    "print(f\"end at date: {date_to}\")"
   ],
   "metadata": {
    "collapsed": false,
    "pycharm": {
     "name": "#%%\n"
    }
   }
  },
  {
   "cell_type": "code",
   "execution_count": null,
   "outputs": [],
   "source": [
    "movement_data.head(n=20)"
   ],
   "metadata": {
    "collapsed": false,
    "pycharm": {
     "name": "#%%\n"
    }
   }
  },
  {
   "cell_type": "code",
   "execution_count": null,
   "outputs": [],
   "source": [
    "def print_info(movement):\n",
    "    movement_data_2_or_more_pages = movement[movement['countOfDistinctPages'] >= 2]\n",
    "    total_sessions_with_2_or_more_pages = movement_data_2_or_more_pages['numberOfSessions'].sum()\n",
    "    four_weeks = total_sessions_with_2_or_more_pages\n",
    "    one_week_average = four_weeks / 4\n",
    "    print(f\"In 4 weeks, number of sessions that hit two or more pages in list: {str(four_weeks)}\")\n",
    "    print(f\"In 1 week (average of 4 weeks), number of sessions that hit two or more pages in list: {str(one_week_average)}\")\n",
    "\n",
    "print_info(movement_data)"
   ],
   "metadata": {
    "collapsed": false,
    "pycharm": {
     "name": "#%%\n"
    }
   }
  },
  {
   "cell_type": "code",
   "execution_count": null,
   "outputs": [],
   "source": [],
   "metadata": {
    "collapsed": false,
    "pycharm": {
     "name": "#%%\n"
    }
   }
  }
 ],
 "metadata": {
  "kernelspec": {
   "display_name": "Python 3",
   "language": "python",
   "name": "python3"
  },
  "language_info": {
   "codemirror_mode": {
    "name": "ipython",
    "version": 2
   },
   "file_extension": ".py",
   "mimetype": "text/x-python",
   "name": "python",
   "nbconvert_exporter": "python",
   "pygments_lexer": "ipython2",
   "version": "2.7.6"
  }
 },
 "nbformat": 4,
 "nbformat_minor": 0
}